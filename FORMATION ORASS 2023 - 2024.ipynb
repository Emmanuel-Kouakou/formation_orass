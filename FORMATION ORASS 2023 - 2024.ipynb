{
 "cells": [
  {
   "cell_type": "markdown",
   "id": "61d5fa69",
   "metadata": {},
   "source": [
    "### Présentation d'orass"
   ]
  },
  {
   "cell_type": "markdown",
   "id": "34c39c4b",
   "metadata": {},
   "source": [
    "- ORASS est un progiciel de gestion d'assurance et de réassurance édité par Orsyx basé au Maroc.\n",
    "- Une assurance est un service qui fournit une prestation lors de la survenance d'un évènement incertain et aléatoire souvent appelé \"Risque\".\n",
    "- Utilise Oracle comme SGBD.\n",
    "- Langage de développement Forms, PLSQL, ... mapping avec la base de données."
   ]
  },
  {
   "cell_type": "markdown",
   "id": "dfb5a5ca",
   "metadata": {},
   "source": [
    "### Page d'accueil"
   ]
  },
  {
   "cell_type": "markdown",
   "id": "242c8adc",
   "metadata": {},
   "source": [
    "<img src=\"cpt/login_presentation.jpg\" alt=\"Page connexion\">"
   ]
  },
  {
   "cell_type": "markdown",
   "id": "8416ca4f",
   "metadata": {},
   "source": [
    "Cette page représente la page de connexion aux modules d'orass. Après connexion de l'utilisateur, selon ces droits d'accès et son profil, pourra avoir accès aux modules qui lui sont attribués.\n",
    "\n",
    "1. Les différents modules présents à ce niveau concernent la production. Les 3 rubriques principales à ce niveau sont : Assurance automobile, Assurance TIRD (Transport, Incendie et Risques Divers) et ADP ou Assurance personne en ce qui concerne les voyages, la santé, Individuelle Accident, etc. Les référentiels sous ces rubriques paramètre ces différentes rubriques.\n",
    "\n",
    "2. Gestion Assurés : \n",
    "  - Création, mises à jour et suppression des Qualités, Professions, Activités, Statut socio-professionnel. Champs faisant parti des propriétés de l'assuré.\n",
    "  - Création, mises à jour, consultation d'un assuré.\n",
    "  - Consultation des Prospects (Assuré n'ayant pas encore de police), etc.\n",
    "  \n",
    "3. Administration : \n",
    "  - Gestion des utilisateurs\n",
    "  - Initialisation des registres\n",
    "  - Structure des menus, etc.\n",
    "  \n",
    "4. Concerne la comptabilité. S'assurer qu'il y est un bon rapport entre les productions et les observations en comptabilité.  \n",
    "\n",
    "5. Le module traitement périodique fait référence à la génération des états et rapports, etc."
   ]
  },
  {
   "cell_type": "markdown",
   "id": "c3011928",
   "metadata": {},
   "source": [
    "### Présentation de la rubrique REFERENTIEL AUTO"
   ]
  },
  {
   "cell_type": "code",
   "execution_count": null,
   "id": "88f57664",
   "metadata": {},
   "outputs": [],
   "source": []
  }
 ],
 "metadata": {
  "kernelspec": {
   "display_name": "Python 3 (ipykernel)",
   "language": "python",
   "name": "python3"
  },
  "language_info": {
   "codemirror_mode": {
    "name": "ipython",
    "version": 3
   },
   "file_extension": ".py",
   "mimetype": "text/x-python",
   "name": "python",
   "nbconvert_exporter": "python",
   "pygments_lexer": "ipython3",
   "version": "3.11.3"
  }
 },
 "nbformat": 4,
 "nbformat_minor": 5
}
